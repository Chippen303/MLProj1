{
 "cells": [
  {
   "cell_type": "code",
   "execution_count": 24,
   "metadata": {
    "scrolled": false
   },
   "outputs": [
    {
     "name": "stdout",
     "output_type": "stream",
     "text": [
      "Training error = 0.5416666666666666 Lambda = 0.5\n",
      "test error = 0.7186147186147186\n"
     ]
    }
   ],
   "source": [
    "import numpy as np\n",
    "import matplotlib.pyplot as plt\n",
    "from sklearn.metrics import mean_squared_error, r2_score\n",
    "from numpy.linalg import inv\n",
    "from numpy.linalg import norm\n",
    "\n",
    "def read_data(datafile):\n",
    "    with open(datafile, 'r', encoding='utf-8-sig') as data_file:\n",
    "        data = []\n",
    "        for line in data_file:\n",
    "            lines = line.split()\n",
    "            lines = [float(i) for i in lines]\n",
    "            data.append(lines)\n",
    "        data = np.array(data)\n",
    "    return data\n",
    "\n",
    "def split_data(data):\n",
    "    train = data[0:np.min(np.where(data[:,0]>0)),:]\n",
    "    test = data[np.min(np.where(data[:,0]>0)):len(data),:]\n",
    "    train_classes_t = int(np.max(train[:,len(train.T)-1]))\n",
    "    test_classes_t = int(np.max(test[:,len(train.T)-1]))\n",
    "    traindata_coly = list(train[:,len(train.T)-1].astype(int))\n",
    "    testdata_coly = list(test[:,len(train.T)-1].astype(int))\n",
    "    train_features = train[:,3:len(train.T)-1]\n",
    "    test_features = test[:,3:len(train.T)-1]\n",
    "    train_features = train_features.T\n",
    "    test_features = test_features.T\n",
    "    return train, test, train_classes_t, test_classes_t, traindata_coly, testdata_coly, train_features, test_features\n",
    "\n",
    "def indices_to_one_hot(data, nb_classes):\n",
    "    return np.eye(nb_classes+1)[np.array(data)]\n",
    "\n",
    "def training(train_features, train_T):\n",
    "    error_vec = []\n",
    "    max_lambda = 10\n",
    "    min_lambda = 0.1\n",
    "    length = int(max_lambda/min_lambda)\n",
    "    lambda_vec = np.linspace(min_lambda,max_lambda,length)\n",
    "    A_fit_vec = []\n",
    "\n",
    "    for lambda1 in lambda_vec:\n",
    "        lambda_mat = lambda1*np.ones((len(train_features), len(train_features)))\n",
    "        A_fit = np.matmul(np.matmul(inv(np.matmul(train_features, train_features.T) + lambda_mat), train_features), train_T.T)\n",
    "        A_fit = A_fit.T\n",
    "        A_fit_vec.append(A_fit)\n",
    "        t_tilde = np.matmul(A_fit,train_features)\n",
    "        e = np.eye(11,11)\n",
    "        for i in np.arange(len(t_tilde.T)):\n",
    "            normi = []\n",
    "            for k in np.arange(len(e)):\n",
    "                norma = norm(e[:,k]-t_tilde[:,i], ord=2)**2\n",
    "                normi.append(norma)\n",
    "            normi = np.array([normi])\n",
    "            classi = np.argmin(normi)\n",
    "            t_tilde[:,i] = e[:,classi]\n",
    "        wrongly_classified = train_T - t_tilde\n",
    "        count = 0\n",
    "        for i in np.arange(len(train_features.T)):\n",
    "            if sum(wrongly_classified[:,i] > 0) > 0:\n",
    "                count = count + 1\n",
    "        train_error = count/len(train_features.T)\n",
    "        error_vec.append(train_error)\n",
    "    lam = lambda_vec[np.argmin(error_vec)]\n",
    "    A_fit = A_fit_vec[np.argmin(error_vec)]\n",
    "    print(\"Training error =\", error_vec[np.argmin(error_vec)], \"Lambda =\", lam)\n",
    "    return lam, A_fit\n",
    "    \n",
    "def testing(lam, A_fit):\n",
    "    lam_mat = lam*np.ones((len(train_features), len(train_features)))\n",
    "    t_tilde_test = np.matmul(A_fit, test_features)\n",
    "    e2 = np.eye(11,11)\n",
    "\n",
    "    for p in np.arange(len(t_tilde_test.T)):\n",
    "        normi2 = []\n",
    "        for m in np.arange(len(e2)):\n",
    "            norma2 = norm(e2[:,m]-t_tilde_test[:,p], ord=2)**2\n",
    "            normi2.append(norma2)\n",
    "        normi2 = np.array([normi2])\n",
    "        classi2 = np.argmin(normi2)\n",
    "        t_tilde_test[:,p] = e[:,classi2]\n",
    "    \n",
    "    wrongly_classified2 = test_T - t_tilde_test\n",
    "    count = 0\n",
    "    for i in np.arange(len(test_features.T)):\n",
    "        if sum(wrongly_classified2[:,i] > 0) > 0:\n",
    "            count = count + 1\n",
    "    test_error = count/len(test_features.T)\n",
    "    print(\"test error =\", test_error)\n",
    "\n",
    "if __name__==\"__main__\":\n",
    "    data = read_data('vowel-context.txt')\n",
    "    train, test, train_classes_t, test_classes_t, traindata_coly, testdata_coly, train_features, test_features = split_data(data)\n",
    "    train_T = indices_to_one_hot(traindata_coly, train_classes_t)\n",
    "    test_T = indices_to_one_hot(testdata_coly, test_classes_t)\n",
    "    train_T = train_T.T\n",
    "    test_T = test_T.T\n",
    "    lam, A_fit = training(train_features, train_T)\n",
    "    testing(lam, A_fit)\n"
   ]
  },
  {
   "cell_type": "code",
   "execution_count": 26,
   "metadata": {},
   "outputs": [
    {
     "data": {
      "text/plain": [
       "array([ 0.1,  0.2,  0.3,  0.4,  0.5,  0.6,  0.7,  0.8,  0.9,  1. ,  1.1,\n",
       "        1.2,  1.3,  1.4,  1.5,  1.6,  1.7,  1.8,  1.9,  2. ,  2.1,  2.2,\n",
       "        2.3,  2.4,  2.5,  2.6,  2.7,  2.8,  2.9,  3. ,  3.1,  3.2,  3.3,\n",
       "        3.4,  3.5,  3.6,  3.7,  3.8,  3.9,  4. ,  4.1,  4.2,  4.3,  4.4,\n",
       "        4.5,  4.6,  4.7,  4.8,  4.9,  5. ,  5.1,  5.2,  5.3,  5.4,  5.5,\n",
       "        5.6,  5.7,  5.8,  5.9,  6. ,  6.1,  6.2,  6.3,  6.4,  6.5,  6.6,\n",
       "        6.7,  6.8,  6.9,  7. ,  7.1,  7.2,  7.3,  7.4,  7.5,  7.6,  7.7,\n",
       "        7.8,  7.9,  8. ,  8.1,  8.2,  8.3,  8.4,  8.5,  8.6,  8.7,  8.8,\n",
       "        8.9,  9. ,  9.1,  9.2,  9.3,  9.4,  9.5,  9.6,  9.7,  9.8,  9.9,\n",
       "       10. ])"
      ]
     },
     "execution_count": 26,
     "metadata": {},
     "output_type": "execute_result"
    }
   ],
   "source": [
    "np.linspace(0.1,10,100)"
   ]
  }
 ],
 "metadata": {
  "kernelspec": {
   "display_name": "Python 3",
   "language": "python",
   "name": "python3"
  },
  "language_info": {
   "codemirror_mode": {
    "name": "ipython",
    "version": 3
   },
   "file_extension": ".py",
   "mimetype": "text/x-python",
   "name": "python",
   "nbconvert_exporter": "python",
   "pygments_lexer": "ipython3",
   "version": "3.6.5"
  }
 },
 "nbformat": 4,
 "nbformat_minor": 2
}
